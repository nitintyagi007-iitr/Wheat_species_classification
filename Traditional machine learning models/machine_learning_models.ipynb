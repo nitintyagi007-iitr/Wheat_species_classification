{
 "cells": [
  {
   "cell_type": "code",
   "execution_count": null,
   "id": "0663012a",
   "metadata": {},
   "outputs": [],
   "source": [
    "import spectral.io.envi as envi\n",
    "import cv2\n",
    "from spectral import envi\n",
    "from spectral import *\n",
    "%matplotlib inline\n",
    "import matplotlib.pyplot as plt\n",
    "import matplotlib.image as mpimg\n",
    "import numpy as np\n",
    "import pandas as pd\n",
    "from skimage import measure\n",
    "from skimage import color, morphology\n",
    "from skimage.color import label2rgb\n",
    "from sklearn.svm import SVC\n",
    "from sklearn.metrics import balanced_accuracy_score\n",
    "from collections import Counter\n",
    "from sklearn.datasets import make_classification\n",
    "from sklearn.model_selection import train_test_split\n",
    "from sklearn.metrics import confusion_matrix\n",
    "from sklearn.metrics import accuracy_score\n",
    "import seaborn as sns\n",
    "import matplotlib.pyplot as plt\n",
    "import numpy as np\n",
    "import matplotlib.pyplot as plt\n",
    "import pandas as pd\n",
    "from sklearn.tree import DecisionTreeClassifier\n",
    "from sklearn.linear_model import LogisticRegression\n",
    "from sklearn.svm import SVC\n",
    "from sklearn.neighbors import KNeighborsClassifier\n",
    "from sklearn.naive_bayes import GaussianNB\n",
    "from sklearn.ensemble import VotingClassifier\n",
    "from sklearn import model_selection\n",
    "from sklearn.metrics import confusion_matrix\n",
    "from sklearn. preprocessing import StandardScaler\n",
    "from sklearn.model_selection import train_test_split\n",
    "from sklearn import metrics"
   ]
  },
  {
   "cell_type": "code",
   "execution_count": null,
   "id": "e65b8e38",
   "metadata": {},
   "outputs": [],
   "source": [
    "new_df_train=pd.read_excel(\"D:\\\\D drive data\\\\SMOTE_40_wheat_var\\\\train_SMOTE_Manual_4_species.xlsx\")\n",
    "new_df_test=pd.read_excel(\"D:\\\\D drive data\\\\SMOTE_40_wheat_var\\\\test_SMOTE_Manual_4_species.xlsx\")"
   ]
  },
  {
   "cell_type": "code",
   "execution_count": null,
   "id": "97080fc1",
   "metadata": {},
   "outputs": [],
   "source": [
    "X_train, X_test, y_train, y_test = train_test_split(X, y, test_size=0.20, random_state=42, stratify=y,shuffle=True)"
   ]
  },
  {
   "cell_type": "markdown",
   "id": "27db68ad",
   "metadata": {},
   "source": [
    "# Naive Bayes"
   ]
  },
  {
   "cell_type": "code",
   "execution_count": null,
   "id": "e4cb299c",
   "metadata": {},
   "outputs": [],
   "source": [
    "model_NB = GaussianNB()"
   ]
  },
  {
   "cell_type": "code",
   "execution_count": null,
   "id": "a173dcec",
   "metadata": {},
   "outputs": [],
   "source": [
    "model_NB.fit(X_train, y_train)"
   ]
  },
  {
   "cell_type": "code",
   "execution_count": null,
   "id": "a734e709",
   "metadata": {},
   "outputs": [],
   "source": [
    "model_NB.score(X_test,y_test)"
   ]
  },
  {
   "cell_type": "code",
   "execution_count": null,
   "id": "406a2049",
   "metadata": {},
   "outputs": [],
   "source": [
    "predictions_NB = model_NB.predict(X_test)\n",
    "print(classification_report(y_test, predictions_NB))"
   ]
  },
  {
   "cell_type": "code",
   "execution_count": null,
   "id": "5feb0498",
   "metadata": {},
   "outputs": [],
   "source": [
    "from sklearn.metrics import balanced_accuracy_score\n",
    "# Calculate balanced accuracy\n",
    "balanced_acc = balanced_accuracy_score(y_test, predictions_NB)\n",
    "print(f\"Balanced Accuracy: {balanced_acc:.4f}\")"
   ]
  },
  {
   "cell_type": "code",
   "execution_count": null,
   "id": "84b6f780",
   "metadata": {},
   "outputs": [],
   "source": [
    "cf_matrix_NB = confusion_matrix(y_test, predictions_NB)\n",
    "ax = sns.heatmap(cf_matrix_NB, annot=True, cmap='Blues',fmt='g')\n",
    "\n",
    "ax.set_title('Seaborn Confusion Matrix with labels\\n\\n');\n",
    "ax.set_xlabel('\\nPredicted Wheat Category')\n",
    "ax.set_ylabel('Actual Wheat Category ');\n",
    "\n",
    "## Ticket labels - List must be in alphabetical order\n",
    "ax.xaxis.set_ticklabels(['T.aestivum','T.durum','Diccocum','Triticale'],rotation=30)\n",
    "ax.yaxis.set_ticklabels(['T.aestivum','T.durum','Diccocum','Triticale'],rotation=30)\n",
    "\n",
    "## Display the visualization of the Confusion Matrix.\n",
    "sns.set(rc={'figure.figsize':(15,15)})\n",
    "plt.show()"
   ]
  },
  {
   "cell_type": "markdown",
   "id": "20967300",
   "metadata": {},
   "source": [
    "# KNN"
   ]
  },
  {
   "cell_type": "code",
   "execution_count": null,
   "id": "b562d2bf",
   "metadata": {},
   "outputs": [],
   "source": [
    "model_KNN = KNeighborsClassifier(n_neighbors = 4)"
   ]
  },
  {
   "cell_type": "code",
   "execution_count": null,
   "id": "1b44bced",
   "metadata": {},
   "outputs": [],
   "source": [
    "model_KNN.fit(X_train, y_train)"
   ]
  },
  {
   "cell_type": "code",
   "execution_count": null,
   "id": "56e20623",
   "metadata": {},
   "outputs": [],
   "source": [
    "model_KNN.score(X_test,y_test)"
   ]
  },
  {
   "cell_type": "code",
   "execution_count": null,
   "id": "e83b69c2",
   "metadata": {},
   "outputs": [],
   "source": [
    "predictions_KNN = model_KNN.predict(X_test)\n",
    "print(classification_report(y_test, predictions_KNN))"
   ]
  },
  {
   "cell_type": "code",
   "execution_count": null,
   "id": "10038d77",
   "metadata": {},
   "outputs": [],
   "source": [
    "# Calculate balanced accuracy\n",
    "balanced_acc = balanced_accuracy_score(y_test, predictions_KNN)\n",
    "\n",
    "print(f\"Balanced Accuracy: {balanced_acc:.4f}\")"
   ]
  },
  {
   "cell_type": "code",
   "execution_count": null,
   "id": "81df1928",
   "metadata": {},
   "outputs": [],
   "source": [
    "cf_matrix_KNN = confusion_matrix(y_test, predictions_KNN)\n",
    "ax = sns.heatmap(cf_matrix_KNN, annot=True, cmap='Blues',fmt='g')\n",
    "\n",
    "ax.set_title('Seaborn Confusion Matrix with labels\\n\\n');\n",
    "ax.set_xlabel('\\nPredicted Wheat Category')\n",
    "ax.set_ylabel('Actual Wheat Category ');\n",
    "\n",
    "## Ticket labels - List must be in alphabetical order\n",
    "ax.xaxis.set_ticklabels(['T.aestivum','T.durum','Diccocum','Triticale'],rotation=30)\n",
    "ax.yaxis.set_ticklabels(['T.aestivum','T.durum','Diccocum','Triticale'],rotation=30)\n",
    "\n",
    "## Display the visualization of the Confusion Matrix.\n",
    "sns.set(rc={'figure.figsize':(12,12)})\n",
    "plt.show()"
   ]
  },
  {
   "cell_type": "markdown",
   "id": "e89ade9f",
   "metadata": {},
   "source": [
    "# Random Forest"
   ]
  },
  {
   "cell_type": "code",
   "execution_count": null,
   "id": "ce4b2155",
   "metadata": {},
   "outputs": [],
   "source": [
    "from sklearn.ensemble import RandomForestClassifier\n",
    "from sklearn.model_selection import GridSearchCV\n",
    "from sklearn.datasets import make_classification\n",
    "from sklearn.model_selection import train_test_split\n",
    "\n",
    "# Define the parameter grid for grid search\n",
    "param_grid = {\n",
    "    'n_estimators': [300,400,500],\n",
    "    'max_depth': [10,20,30],\n",
    "    'min_samples_split': [2, 5, 6],\n",
    "    'min_samples_leaf': [1, 2, 4],\n",
    "    'max_features': ['auto','sqrt']\n",
    "}\n",
    "\n",
    "# Create the Random Forest classifier\n",
    "rfc = RandomForestClassifier()\n",
    "\n",
    "# Perform grid search with cross-validation\n",
    "grid_search = GridSearchCV(estimator=rfc, param_grid=param_grid, cv=5, scoring='accuracy')\n",
    "grid_search.fit(X_train, y_train)\n"
   ]
  },
  {
   "cell_type": "code",
   "execution_count": null,
   "id": "c0c34d58",
   "metadata": {},
   "outputs": [],
   "source": [
    "rf = RandomForestClassifier(bootstrap= True,\n",
    " max_depth= 40,\n",
    " max_features= 'sqrt',\n",
    " min_samples_leaf= 1,\n",
    " min_samples_split= 6,\n",
    " n_estimators= 500)   "
   ]
  },
  {
   "cell_type": "code",
   "execution_count": null,
   "id": "ae682fd9",
   "metadata": {},
   "outputs": [],
   "source": [
    "rf.fit(X_train, y_train)"
   ]
  },
  {
   "cell_type": "code",
   "execution_count": null,
   "id": "3edca313",
   "metadata": {},
   "outputs": [],
   "source": [
    "rf.score(X_test,y_test)"
   ]
  },
  {
   "cell_type": "code",
   "execution_count": null,
   "id": "0c71d639",
   "metadata": {},
   "outputs": [],
   "source": [
    "predictions_rf = rf.predict(X_test)\n",
    "print(classification_report(y_test, predictions_rf))"
   ]
  },
  {
   "cell_type": "code",
   "execution_count": null,
   "id": "7495f561",
   "metadata": {},
   "outputs": [],
   "source": [
    "balanced_acc = balanced_accuracy_score(y_test, predictions_rf)\n",
    "\n",
    "print(f\"Balanced Accuracy: {balanced_acc:.4f}\")"
   ]
  },
  {
   "cell_type": "code",
   "execution_count": null,
   "id": "8e1b38e1",
   "metadata": {},
   "outputs": [],
   "source": [
    "cf_matrix_rf = confusion_matrix(y_test, predictions_rf)"
   ]
  },
  {
   "cell_type": "code",
   "execution_count": null,
   "id": "8149e898",
   "metadata": {},
   "outputs": [],
   "source": [
    "ax = sns.heatmap(cf_matrix_rf, annot=True, cmap='Blues',fmt='g')\n",
    "\n",
    "ax.set_title('Seaborn Confusion Matrix with labels\\n\\n');\n",
    "ax.set_xlabel('\\nPredicted Wheat Category')\n",
    "ax.set_ylabel('Actual Wheat Category ');\n",
    "\n",
    "## Ticket labels - List must be in alphabetical order\n",
    "ax.xaxis.set_ticklabels(['T.aestivum','T.durum','Diccocum','Triticale'],rotation=30)\n",
    "ax.yaxis.set_ticklabels(['T.aestivum','T.durum','Diccocum','Triticale'],rotation=30)\n",
    "\n",
    "## Display the visualization of the Confusion Matrix.\n",
    "sns.set(rc={'figure.figsize':(12,12)})\n",
    "plt.show()"
   ]
  },
  {
   "cell_type": "markdown",
   "id": "00ddc89f",
   "metadata": {},
   "source": [
    "# XGBoost"
   ]
  },
  {
   "cell_type": "code",
   "execution_count": null,
   "id": "b50f28f9",
   "metadata": {},
   "outputs": [],
   "source": [
    "import xgboost as xgb\n",
    "from sklearn.model_selection import GridSearchCV\n",
    "from sklearn.datasets import load_iris\n",
    "from sklearn.metrics import accuracy_score\n",
    "\n",
    "\n",
    "X = X_train\n",
    "y = y_train\n",
    "\n",
    "# Create an XGBoost classifier\n",
    "xgb_classifier = xgb.XGBClassifier(use_label_encoder=False, eval_metric='mlogloss')\n",
    "\n",
    "# Define the parameter grid to search\n",
    "param_grid = {\n",
    "    'n_estimators': [7000,8000,9000,10000,11000,12000],\n",
    "    'max_depth': [2,3,4,5],\n",
    "    'learning_rate': [0.1, 0.2,0.3,0.4,0.5,0.6,0.7,0.8],\n",
    "    'subsample': [0.8],\n",
    "    'colsample_bytree': [0.8]\n",
    "}\n",
    "\n",
    "# Create a GridSearchCV object\n",
    "grid_search = GridSearchCV(\n",
    "    estimator=xgb_classifier,\n",
    "    param_grid=param_grid,\n",
    "    scoring='accuracy',\n",
    "    cv=5,  # 5-fold cross-validation\n",
    "    verbose=1,\n",
    "    n_jobs=-1  # Use all available cores\n",
    ")\n",
    "\n",
    "# Perform grid search\n",
    "grid_search.fit(X, y)\n",
    "\n",
    "# Print the best parameters and the best score\n",
    "print(\"Best parameters found: \", grid_search.best_params_)\n",
    "print(\"Best accuracy score: \", grid_search.best_score_)\n",
    "\n",
    "# Use the best model for predictions\n",
    "best_model = grid_search.best_estimator_\n",
    "y_pred = best_model.predict(X)\n",
    "\n",
    "# Evaluate the accuracy\n",
    "accuracy = accuracy_score(y, y_pred)\n",
    "print(f\"Accuracy with the best model: {accuracy:.4f}\")\n"
   ]
  },
  {
   "cell_type": "code",
   "execution_count": null,
   "id": "4fb46765",
   "metadata": {},
   "outputs": [],
   "source": [
    "import xgboost as xgb\n",
    "from sklearn.model_selection import train_test_split\n",
    "from sklearn.metrics import accuracy_score, classification_report\n",
    "\n",
    "# Split the dataset into training and testing sets\n",
    "#X_train, X_test, y_train, y_test = train_test_split(X, y, test_size=0.2, random_state=42)\n",
    "\n",
    "# Create the XGBoost model\n",
    "model_XGboost = xgb.XGBClassifier(\n",
    "    objective='multi:softmax',  # For multiclass classification\n",
    "    num_class=4,      # Number of classes in the target variable\n",
    "    n_estimators=13000,           # Number of boosting rounds (trees)\n",
    "    max_depth=3,                # Maximum depth of each tree\n",
    "    learning_rate=0.8,          # Learning rate (controls step size during boosting)\n",
    "    subsample=0.8,              # Fraction of samples used for fitting each tree\n",
    "    colsample_bytree=0.8,       # Fraction of features used for fitting each tree\n",
    "    random_state=42             # Seed for reproducibility\n",
    ")\n",
    "\n",
    "# Train the model on the training data\n",
    "model_XGboost.fit(X_train, y_train)\n",
    "\n",
    "# Make predictions on the test data\n",
    "y_pred = model_XGboost.predict(X_test)\n",
    "\n",
    "# Calculate accuracy\n",
    "accuracy = accuracy_score(y_test, y_pred)\n",
    "print(f\"Accuracy: {accuracy:.2f}\")\n",
    "\n",
    "# Generate classification report\n",
    "class_report = classification_report(y_test, y_pred)\n",
    "print(\"Classification Report:\\n\", class_report)\n"
   ]
  },
  {
   "cell_type": "code",
   "execution_count": null,
   "id": "31a4b1c6",
   "metadata": {},
   "outputs": [],
   "source": [
    "# Calculate balanced accuracy\n",
    "balanced_acc = balanced_accuracy_score(y_test, y_pred)\n",
    "\n",
    "print(f\"Balanced Accuracy: {balanced_acc:.4f}\")"
   ]
  },
  {
   "cell_type": "code",
   "execution_count": null,
   "id": "a20f1b07",
   "metadata": {},
   "outputs": [],
   "source": [
    "cf_matrix_xgboost = confusion_matrix(y_test, y_pred)\n",
    "ax = sns.heatmap(cf_matrix_xgboost, annot=True, cmap='Blues',fmt='g')\n",
    "\n",
    "ax.set_title('Seaborn Confusion Matrix with labels\\n\\n');\n",
    "ax.set_xlabel('\\nPredicted Wheat Category')\n",
    "ax.set_ylabel('Actual Wheat Category ');\n",
    "\n",
    "## Ticket labels - List must be in alphabetical order\n",
    "ax.xaxis.set_ticklabels(['T.aestivum','T.durum','Diccocum','Triticale'],rotation=30)\n",
    "ax.yaxis.set_ticklabels(['T.aestivum','T.durum','Diccocum','Triticale'],rotation=30)\n",
    "\n",
    "## Display the visualization of the Confusion Matrix.\n",
    "sns.set(rc={'figure.figsize':(15,15)})\n",
    "plt.show()"
   ]
  }
 ],
 "metadata": {
  "kernelspec": {
   "display_name": "Python 3 (ipykernel)",
   "language": "python",
   "name": "python3"
  },
  "language_info": {
   "codemirror_mode": {
    "name": "ipython",
    "version": 3
   },
   "file_extension": ".py",
   "mimetype": "text/x-python",
   "name": "python",
   "nbconvert_exporter": "python",
   "pygments_lexer": "ipython3",
   "version": "3.11.4"
  }
 },
 "nbformat": 4,
 "nbformat_minor": 5
}
