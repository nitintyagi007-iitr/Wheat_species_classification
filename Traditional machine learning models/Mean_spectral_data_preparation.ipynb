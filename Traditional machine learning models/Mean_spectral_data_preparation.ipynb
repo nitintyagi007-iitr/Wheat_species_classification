{
 "cells": [
  {
   "cell_type": "markdown",
   "id": "558b0a88",
   "metadata": {},
   "source": [
    "# Mean spectral data preparation of wheat species for 40 varieties"
   ]
  },
  {
   "cell_type": "code",
   "execution_count": null,
   "id": "9115cca5",
   "metadata": {},
   "outputs": [],
   "source": [
    "import spectral.io.envi as envi\n",
    "import cv2\n",
    "from spectral import envi\n",
    "from spectral import *\n",
    "%matplotlib inline\n",
    "\n",
    "import matplotlib.pyplot as plt\n",
    "import matplotlib.image as mpimg\n",
    "import numpy as np\n",
    "\n",
    "import tifffile as t\n",
    "import pandas as pd\n",
    "from skimage import measure\n",
    "from skimage import color, morphology\n",
    "from skimage.color import label2rgb\n",
    "import pandas as pd"
   ]
  },
  {
   "cell_type": "code",
   "execution_count": null,
   "id": "e2fc5e9b",
   "metadata": {},
   "outputs": [],
   "source": [
    "coordinates_CU=[]\n",
    "coordinates_CD=[]"
   ]
  },
  {
   "cell_type": "code",
   "execution_count": null,
   "id": "959aa0ff",
   "metadata": {},
   "outputs": [],
   "source": [
    "def show_img(img): # for displaying the hyperspectral image\n",
    "    fig = plt.figure(figsize = (8,8))\n",
    "    plt.imshow(img)\n",
    "    plt.show()"
   ]
  },
  {
   "cell_type": "code",
   "execution_count": null,
   "id": "73825bdb",
   "metadata": {},
   "outputs": [],
   "source": [
    "def preprocess(img1): # binary thresholding technique for generating the binary mask\n",
    "    median = cv2.medianBlur(img1, 5)\n",
    "    # applying thresholding to filtered image by taking threshold value 0.19 and displaying the image\n",
    "    for i in range(median.shape[0]):\n",
    "        for j in range(median.shape[1]):\n",
    "            if median[i][j]>0.19:\n",
    "                median[i][j]=1\n",
    "            else:\n",
    "                median[i][j]=0\n",
    "    return median"
   ]
  },
  {
   "cell_type": "code",
   "execution_count": null,
   "id": "1a652e48",
   "metadata": {},
   "outputs": [],
   "source": [
    "def img_multiply(img,median): #multiply binary mask with all spectral bands for extracting the ROI \n",
    "    img_result=[]\n",
    "    for i in range(14,161):  #(14,161)\n",
    "        y=np.multiply(np.squeeze(img[25:800,:,i]),median)\n",
    "        img_result.append(y)\n",
    "    return img_result"
   ]
  },
  {
   "cell_type": "code",
   "execution_count": null,
   "id": "41e5a488",
   "metadata": {},
   "outputs": [],
   "source": [
    "def img_coord(median): # for finding the centre and coordinates of each seeds of the ROI\n",
    "    label_img=measure.label(median, connectivity=median.ndim)\n",
    "    img_label_overlay = label2rgb(label_img, image=median)\n",
    "    props = measure.regionprops_table(label_img, median, \n",
    "                          properties=['centroid','coords'])\n",
    "    df = pd.DataFrame(props)\n",
    "    return df"
   ]
  },
  {
   "cell_type": "code",
   "execution_count": null,
   "id": "1c71abcb",
   "metadata": {},
   "outputs": [],
   "source": [
    "def dataframe_rearrange(df): # for reordering the seeds to maintain the correspondence between the crease up and crease\n",
    "                              #down seeds\n",
    "    l=[]\n",
    "    for j in range(0,72,6):\n",
    "        df1=df[j:j+6]\n",
    "        df2=df1.sort_values(by=['centroid-1'])\n",
    "        df2.reset_index(drop=True, inplace=True)\n",
    "        l.append(df2)\n",
    "    vertical_concat = pd.concat([l[0], l[1],l[2],l[3],l[4],l[5],l[6],l[7],l[8],l[9],l[10],l[11]], axis=0)\n",
    "    return vertical_concat"
   ]
  },
  {
   "cell_type": "code",
   "execution_count": null,
   "id": "a507fb8d",
   "metadata": {},
   "outputs": [],
   "source": [
    "def spectra(img_result,df): # for finding the mean spectral values for each seed \n",
    "    spectra_mean=[]\n",
    "    spectra_mean_var=[]\n",
    "    coordinates=[]\n",
    "    coordinates=df['coords']\n",
    "    #print(coordinates[0][0][1])\n",
    "    for i in img_result:\n",
    "        spectra_mean=[]\n",
    "        for j in coordinates:\n",
    "            reflectance_val=[]\n",
    "            for k in j:\n",
    "                reflectance_val.append(i[k[0]][k[1]])\n",
    "            x=np.sum(reflectance_val)/len(reflectance_val)\n",
    "            spectra_mean.append(x)\n",
    "        spectra_mean_var.append(spectra_mean)\n",
    "    df=pd.DataFrame(spectra_mean_var)\n",
    "    df_transpose=df.transpose()\n",
    "    return df_transpose"
   ]
  },
  {
   "cell_type": "code",
   "execution_count": null,
   "id": "ec01f30b",
   "metadata": {},
   "outputs": [],
   "source": [
    "def spectra_cu_arrange(spectra_cu_new): # for reordering the seeds in the plate\n",
    "    spectra_cu_var=[]\n",
    "    l=[5,4,3,2,1,0,11,10,9,8,7,6,17,16,15,14,13,12,23,22,21,20,19,18,29,28,27,26,25,24,35,34,33,32,31,30,41,40,39,38,37,36,47,46,45,44,\n",
    "  43,42,53,52,51,50,49,48,59,58,57,56,55,54,65,64,63,62,61,60,71,70,69,68,67,66]\n",
    "    for i in l:\n",
    "        spectra_cu_var.append(spectra_cu_new[i])\n",
    "    return spectra_cu_var"
   ]
  },
  {
   "cell_type": "code",
   "execution_count": null,
   "id": "7eae2da1",
   "metadata": {},
   "outputs": [],
   "source": [
    "def mergeList(lst1, lst2):\n",
    "    return [sub[item] for item in range(len(lst2))\n",
    "                      for sub in [lst1, lst2]]"
   ]
  },
  {
   "cell_type": "code",
   "execution_count": null,
   "id": "8173f8cf",
   "metadata": {},
   "outputs": [],
   "source": [
    "# to merge all the 14 dataframes of single variety \n",
    "def merge_dataframe(l):\n",
    "    vertical_concat = pd.concat([l[0], l[1],l[2],l[3],l[4],l[5],l[6],l[7],l[8],l[9],l[10],l[11],l[12],l[13]], axis=0)\n",
    "    return vertical_concat"
   ]
  },
  {
   "cell_type": "code",
   "execution_count": null,
   "id": "f2109a2f",
   "metadata": {},
   "outputs": [],
   "source": [
    "# to merge all the 40 dataframe of all the varieties used for experimentation\n",
    "def merge_dataframe_single(l):\n",
    "    vertical_concat = pd.concat([l[0], l[1],l[2],l[3],l[4],l[5],l[6],l[7],l[8],l[9],l[10],l[11],l[12],l[13],l[14],l[15],l[16],\n",
    "                                l[17],l[18],l[19],l[20],l[21],l[22],l[23],l[24],l[25],l[26],l[27],l[28],l[29],l[30],l[31],l[32],\n",
    "                                l[33],l[34],l[35],l[36],l[37],l[38],l[39]], axis=0)\n",
    "    return vertical_concat"
   ]
  },
  {
   "cell_type": "code",
   "execution_count": null,
   "id": "86d225e8",
   "metadata": {},
   "outputs": [],
   "source": [
    "coord_CU=[]\n",
    "coord_CD=[]\n",
    "l2_cu=[]\n",
    "l2_cd=[]\n",
    "coord_cu=[]\n",
    "spectra_arrange_cu=[]\n",
    "def variety_process(img,img2):\n",
    "    img1= img[25:800,:,50]\n",
    "    median=preprocess(img1)\n",
    "    img_result=img_multiply(img,median)\n",
    "    df1= img_coord(median) # for storing the values of coordinates and area\n",
    "    df_arrange_cu=dataframe_rearrange(df1)\n",
    "    spectra_cu=spectra(img_result,df_arrange_cu)  # store frame of spectra\n",
    "    l2_cu.append(spectra_cu)\n",
    "    img3= img2[25:800,:,50]\n",
    "    median2=preprocess(img3)\n",
    "    img_result2=img_multiply(img2,median2)\n",
    "    df2= img_coord(median2) #receive initial dataframe of coordinates\n",
    "    df_arrange_cd=dataframe_rearrange(df2) #receive dataframe of arrnaged coordinates\n",
    "    spectra_cd=spectra(img_result2,df_arrange_cd)\n",
    "    l2_cd.append(spectra_cd)\n",
    "    n1=spectra_cu.to_numpy()\n",
    "    n2=spectra_cd.to_numpy()\n",
    "    x1=n1.tolist()\n",
    "    x2=n2.tolist()\n",
    "    spectra_arrange=spectra_cu_arrange(x1)\n",
    "    spectra_arrange_cu.append(spectra_arrange)\n",
    "    x3_merge=mergeList(spectra_arrange,x2)\n",
    "    df3=pd.DataFrame(x3_merge)\n",
    "    return(df3)"
   ]
  },
  {
   "cell_type": "code",
   "execution_count": null,
   "id": "f5b7ffaa",
   "metadata": {},
   "outputs": [],
   "source": [
    "variety_name_list_40=['RAJ_MOLIYA_RODHKA_1_R_22','RAJ1482_R_22','RAJ3777_R_22','RAJ4037_R_22','RAJ4079_R_22','RAJ4083_R_22','RAJ4120_R_22','RAJ4238_R_22','RAJ3077_R_22','RAJ3765_R_22','DBW187_L_22','DBW222_L_22',\n",
    "                      'HD3086_L_22','PBW 803_L_22','WH1105_L_22'\n",
    "                      ,'UAS428_DH_22','MACS3949_DH_22','MACS4100_DH_22','UAS446_DH_22','HD4728_MP_22','HI8777_MP_22','HI8759_MP_22','HI8737_MP_22','HI8663_MP_22','HI8713_MP_22',\n",
    "                      'HI8823_MP_22','DDW47_K_22','PDW291_K_22','HI8498(MALAV_SHAKTI)_K_22','A-9-30-1_21_22_K',\n",
    "                      'DDK1001_21_22_K','DDK1009_21_22_K','DDK1025_21_22_K','DDK1029_21_22_K','MACS2971_21_22_K','NP 200_K_21_22_K_SPECIES',\n",
    "                      'HW1098_K_21','DT46_21_22_K','TL2908_21_22_K','TL2942_21_22_K']\n",
    "len(variety_name_list_40)"
   ]
  },
  {
   "cell_type": "code",
   "execution_count": null,
   "id": "89bbcc02",
   "metadata": {},
   "outputs": [],
   "source": [
    "dataframe_var_list=[] # for reading and processing the 40 wheat varieties\n",
    "for i in variety_name_list_40:\n",
    "    l1=[] #list to store datafram\n",
    "    for k in range(1,15):\n",
    "        img_1 = envi.open(\"D:\\\\species_wheat_40\\\\{}\\\\CU_{}.bil.hdr.\".format(i,k),\"D:\\\\species_wheat_40\\\\{}\\\\CU_{}.bil\".format(i,k))\n",
    "        img_2 = envi.open(\"D:\\\\species_wheat_40\\\\{}\\\\CD_{}.bil.hdr.\".format(i,k),\"D:\\\\species_wheat_40\\\\{}\\\\CD_{}.bil\".format(i,k))\n",
    "        df_var=variety_process(img_1,img_2)\n",
    "        l1.append(df_var)\n",
    "    df_merge=merge_dataframe(l1)\n",
    "    dataframe_var_list.append(df_merge)\n"
   ]
  }
 ],
 "metadata": {
  "kernelspec": {
   "display_name": "Python 3 (ipykernel)",
   "language": "python",
   "name": "python3"
  },
  "language_info": {
   "codemirror_mode": {
    "name": "ipython",
    "version": 3
   },
   "file_extension": ".py",
   "mimetype": "text/x-python",
   "name": "python",
   "nbconvert_exporter": "python",
   "pygments_lexer": "ipython3",
   "version": "3.11.4"
  }
 },
 "nbformat": 4,
 "nbformat_minor": 5
}
